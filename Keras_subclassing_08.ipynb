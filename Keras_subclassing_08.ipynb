{
 "cells": [
  {
   "cell_type": "code",
   "execution_count": 1,
   "metadata": {
    "executionInfo": {
     "elapsed": 3193,
     "status": "ok",
     "timestamp": 1690796954011,
     "user": {
      "displayName": "Raj Yadav",
      "userId": "17883966751087890537"
     },
     "user_tz": -330
    },
    "id": "w-nuNzJO9s8y"
   },
   "outputs": [],
   "source": [
    "import os\n",
    "\n",
    "os.environ[\"TF_CPP_MIN_LOG_LEVEL\"] = \"2\"\n",
    "import tensorflow as tf\n",
    "from tensorflow import keras\n",
    "from tensorflow.keras import layers\n",
    "from tensorflow.keras.datasets import mnist"
   ]
  },
  {
   "cell_type": "code",
   "execution_count": 2,
   "metadata": {
    "colab": {
     "base_uri": "https://localhost:8080/"
    },
    "executionInfo": {
     "elapsed": 3566,
     "status": "ok",
     "timestamp": 1690796974374,
     "user": {
      "displayName": "Raj Yadav",
      "userId": "17883966751087890537"
     },
     "user_tz": -330
    },
    "id": "SQqT8GT3-h3P",
    "outputId": "72edbd90-6581-4632-b844-bf22519562ec"
   },
   "outputs": [
    {
     "name": "stdout",
     "output_type": "stream",
     "text": [
      "Downloading data from https://storage.googleapis.com/tensorflow/tf-keras-datasets/mnist.npz\n",
      "11490434/11490434 [==============================] - 2s 0us/step\n"
     ]
    }
   ],
   "source": [
    "(x_train, y_train), (x_test, y_test) = mnist.load_data()\n",
    "x_train = x_train.reshape(-1, 28, 28, 1).astype(\"float32\") / 255.0\n",
    "x_test = x_test.reshape(-1, 28, 28, 1).astype(\"float32\") / 255.0"
   ]
  },
  {
   "cell_type": "code",
   "execution_count": 4,
   "metadata": {
    "colab": {
     "base_uri": "https://localhost:8080/"
    },
    "executionInfo": {
     "elapsed": 596,
     "status": "ok",
     "timestamp": 1690796987009,
     "user": {
      "displayName": "Raj Yadav",
      "userId": "17883966751087890537"
     },
     "user_tz": -330
    },
    "id": "Nz128awtWltd",
    "outputId": "f378c728-8c2e-4cf5-94ca-4aa564af17c8"
   },
   "outputs": [
    {
     "data": {
      "text/plain": [
       "(60000, 28, 28, 1)"
      ]
     },
     "execution_count": 4,
     "metadata": {},
     "output_type": "execute_result"
    }
   ],
   "source": [
    "x_train.shape"
   ]
  },
  {
   "cell_type": "code",
   "execution_count": 6,
   "metadata": {
    "executionInfo": {
     "elapsed": 586,
     "status": "ok",
     "timestamp": 1690797673254,
     "user": {
      "displayName": "Raj Yadav",
      "userId": "17883966751087890537"
     },
     "user_tz": -330
    },
    "id": "JrlpWlZk-k1W"
   },
   "outputs": [],
   "source": [
    "# CNN -> BatchNorm -> ReLU (common structure)\n",
    "# x10 (a lot of code to write!)\n",
    "\n",
    "\n",
    "class CNNBlock(layers.Layer):\n",
    "    def __init__(self, out_channels, kernel_size=3):\n",
    "        super(CNNBlock, self).__init__()\n",
    "        self.conv = layers.Conv2D(out_channels, kernel_size, padding=\"same\")\n",
    "        self.bn = layers.BatchNormalization()\n",
    "\n",
    "    def call(self, input_tensor, training=False):\n",
    "        x = self.conv(input_tensor)\n",
    "        x = self.bn(x, training=training)\n",
    "        x = tf.nn.relu(x)\n",
    "        return x\n"
   ]
  },
  {
   "cell_type": "code",
   "execution_count": 7,
   "metadata": {
    "executionInfo": {
     "elapsed": 3876,
     "status": "ok",
     "timestamp": 1690797718510,
     "user": {
      "displayName": "Raj Yadav",
      "userId": "17883966751087890537"
     },
     "user_tz": -330
    },
    "id": "tkNIs4-T-pE4"
   },
   "outputs": [],
   "source": [
    "model = keras.Sequential(\n",
    "    [CNNBlock(32), CNNBlock(64), CNNBlock(128), layers.Flatten(), layers.Dense(10)]\n",
    ")\n"
   ]
  },
  {
   "cell_type": "code",
   "execution_count": 9,
   "metadata": {
    "colab": {
     "base_uri": "https://localhost:8080/"
    },
    "executionInfo": {
     "elapsed": 723,
     "status": "ok",
     "timestamp": 1690797804298,
     "user": {
      "displayName": "Raj Yadav",
      "userId": "17883966751087890537"
     },
     "user_tz": -330
    },
    "id": "0Sj07qt-ZgoN",
    "outputId": "9271d94d-5f53-4d06-f164-dca3f78783bd"
   },
   "outputs": [
    {
     "data": {
      "text/plain": [
       "<__main__.CNNBlock at 0x7cb402e312a0>"
      ]
     },
     "execution_count": 9,
     "metadata": {},
     "output_type": "execute_result"
    }
   ],
   "source": [
    "model.layers"
   ]
  },
  {
   "cell_type": "code",
   "execution_count": 10,
   "metadata": {
    "executionInfo": {
     "elapsed": 593,
     "status": "ok",
     "timestamp": 1690797826803,
     "user": {
      "displayName": "Raj Yadav",
      "userId": "17883966751087890537"
     },
     "user_tz": -330
    },
    "id": "06NG7tSxZjWU"
   },
   "outputs": [],
   "source": [
    "model.compile(\n",
    "    optimizer=keras.optimizers.Adam(),\n",
    "    loss=keras.losses.SparseCategoricalCrossentropy(from_logits=True),\n",
    "    metrics=[\"accuracy\"],\n",
    ")\n"
   ]
  },
  {
   "cell_type": "code",
   "execution_count": 12,
   "metadata": {
    "colab": {
     "base_uri": "https://localhost:8080/"
    },
    "executionInfo": {
     "elapsed": 44114,
     "status": "ok",
     "timestamp": 1690797905227,
     "user": {
      "displayName": "Raj Yadav",
      "userId": "17883966751087890537"
     },
     "user_tz": -330
    },
    "id": "CuDxc3wUZrC8",
    "outputId": "7b458d8f-3129-4131-9f1a-d7f205b85081"
   },
   "outputs": [
    {
     "name": "stdout",
     "output_type": "stream",
     "text": [
      "938/938 [==============================] - 24s 13ms/step - loss: 0.5264 - accuracy: 0.9470\n",
      "157/157 - 1s - loss: 0.0994 - accuracy: 0.9796 - 1s/epoch - 7ms/step\n"
     ]
    },
    {
     "data": {
      "text/plain": [
       "[0.09941404312849045, 0.9796000123023987]"
      ]
     },
     "execution_count": 12,
     "metadata": {},
     "output_type": "execute_result"
    }
   ],
   "source": [
    "model.fit(x_train, y_train, batch_size=64, epochs=1, verbose=1)\n",
    "model.evaluate(x_test, y_test, batch_size=64, verbose=2)"
   ]
  },
  {
   "cell_type": "code",
   "execution_count": 13,
   "metadata": {
    "colab": {
     "base_uri": "https://localhost:8080/"
    },
    "executionInfo": {
     "elapsed": 713,
     "status": "ok",
     "timestamp": 1690797913977,
     "user": {
      "displayName": "Raj Yadav",
      "userId": "17883966751087890537"
     },
     "user_tz": -330
    },
    "id": "UPI4cCZDaAiT",
    "outputId": "b0dbb19d-b3a2-4b3b-9386-8558871ed8b8"
   },
   "outputs": [
    {
     "name": "stdout",
     "output_type": "stream",
     "text": [
      "Model: \"sequential\"\n",
      "_________________________________________________________________\n",
      " Layer (type)                Output Shape              Param #   \n",
      "=================================================================\n",
      " cnn_block (CNNBlock)        (None, 28, 28, 32)        448       \n",
      "                                                                 \n",
      " cnn_block_1 (CNNBlock)      (None, 28, 28, 64)        18752     \n",
      "                                                                 \n",
      " cnn_block_2 (CNNBlock)      (None, 28, 28, 128)       74368     \n",
      "                                                                 \n",
      " flatten (Flatten)           (None, 100352)            0         \n",
      "                                                                 \n",
      " dense (Dense)               (None, 10)                1003530   \n",
      "                                                                 \n",
      "=================================================================\n",
      "Total params: 1,097,098\n",
      "Trainable params: 1,096,650\n",
      "Non-trainable params: 448\n",
      "_________________________________________________________________\n"
     ]
    }
   ],
   "source": [
    "model.summary()"
   ]
  },
  {
   "cell_type": "code",
   "execution_count": 14,
   "metadata": {
    "executionInfo": {
     "elapsed": 620,
     "status": "ok",
     "timestamp": 1690798294424,
     "user": {
      "displayName": "Raj Yadav",
      "userId": "17883966751087890537"
     },
     "user_tz": -330
    },
    "id": "L0K2GSOM-sAY"
   },
   "outputs": [],
   "source": [
    "class ResBlock(layers.Layer):\n",
    "    def __init__(self, channels):\n",
    "        super(ResBlock, self).__init__()\n",
    "        self.channels = channels\n",
    "        self.cnn1 = CNNBlock(channels[0], 3)\n",
    "        self.cnn2 = CNNBlock(channels[1], 3)\n",
    "        self.cnn3 = CNNBlock(channels[2], 3)\n",
    "        self.pooling = layers.MaxPooling2D()\n",
    "        self.identity_mapping = layers.Conv2D(channels[1], 3, padding=\"same\")\n",
    "\n",
    "    def call(self, input_tensor, training=False):\n",
    "        x = self.cnn1(input_tensor, training=training)\n",
    "        x = self.cnn2(x, training=training)\n",
    "        x = self.cnn3(x + self.identity_mapping(input_tensor), training=training)\n",
    "        x = self.pooling(x)\n",
    "        return x\n"
   ]
  },
  {
   "cell_type": "code",
   "execution_count": 15,
   "metadata": {
    "executionInfo": {
     "elapsed": 577,
     "status": "ok",
     "timestamp": 1690798458826,
     "user": {
      "displayName": "Raj Yadav",
      "userId": "17883966751087890537"
     },
     "user_tz": -330
    },
    "id": "wc5ZwP07-23V"
   },
   "outputs": [],
   "source": [
    "class ResNet_Like(keras.Model):\n",
    "    def __init__(self, num_classes=10):\n",
    "        super(ResNet_Like, self).__init__()\n",
    "        self.block1 = ResBlock([32, 32, 64])\n",
    "        self.block2 = ResBlock([128, 128, 256])\n",
    "        self.block3 = ResBlock([128, 256, 512])\n",
    "        self.pool = layers.GlobalAveragePooling2D()\n",
    "        self.classifier = layers.Dense(num_classes)\n",
    "\n",
    "    def call(self, input_tensor, training=False):\n",
    "        x = self.block1(input_tensor, training=training)\n",
    "        x = self.block2(x, training=training)\n",
    "        x = self.block3(x, training=training)\n",
    "        x = self.pool(x, training=training)\n",
    "        x = self.classifier(x)\n",
    "        return x\n",
    "\n",
    "    def model(self):\n",
    "        x = keras.Input(shape=(28, 28, 1))\n",
    "        return keras.Model(inputs=[x], outputs=self.call(x))\n"
   ]
  },
  {
   "cell_type": "code",
   "execution_count": 16,
   "metadata": {
    "executionInfo": {
     "elapsed": 624,
     "status": "ok",
     "timestamp": 1690798576520,
     "user": {
      "displayName": "Raj Yadav",
      "userId": "17883966751087890537"
     },
     "user_tz": -330
    },
    "id": "fhNK3Wjf-3u1"
   },
   "outputs": [],
   "source": [
    "model = ResNet_Like().model()\n",
    "# base_input = model.layers[0].input\n",
    "# base_output = model.layers[2].output\n",
    "# output = layers.Dense(10)(layers.Flatten()(base_output))\n",
    "# model = keras.Model(base_input, output)\n"
   ]
  },
  {
   "cell_type": "code",
   "execution_count": 17,
   "metadata": {
    "colab": {
     "base_uri": "https://localhost:8080/"
    },
    "executionInfo": {
     "elapsed": 4,
     "status": "ok",
     "timestamp": 1690798580127,
     "user": {
      "displayName": "Raj Yadav",
      "userId": "17883966751087890537"
     },
     "user_tz": -330
    },
    "id": "ky7XV9lKPYuv",
    "outputId": "d3de5209-f60c-4f63-fafa-b5fb8aeb5b27"
   },
   "outputs": [
    {
     "data": {
      "text/plain": [
       "[<keras.engine.input_layer.InputLayer at 0x7cb2d80c28c0>,\n",
       " <__main__.ResBlock at 0x7cb2e16910f0>,\n",
       " <__main__.ResBlock at 0x7cb2d816a2f0>,\n",
       " <__main__.ResBlock at 0x7cb2d810ad40>,\n",
       " <keras.layers.pooling.global_average_pooling2d.GlobalAveragePooling2D at 0x7cb2d80c2e00>,\n",
       " <keras.layers.core.dense.Dense at 0x7cb2d80c36a0>]"
      ]
     },
     "execution_count": 17,
     "metadata": {},
     "output_type": "execute_result"
    }
   ],
   "source": [
    "model.layers"
   ]
  },
  {
   "cell_type": "code",
   "execution_count": 18,
   "metadata": {
    "executionInfo": {
     "elapsed": 600,
     "status": "ok",
     "timestamp": 1690798587747,
     "user": {
      "displayName": "Raj Yadav",
      "userId": "17883966751087890537"
     },
     "user_tz": -330
    },
    "id": "WYQm3L6k-8T8"
   },
   "outputs": [],
   "source": [
    "model.compile(\n",
    "    optimizer=keras.optimizers.Adam(),\n",
    "    loss=keras.losses.SparseCategoricalCrossentropy(from_logits=True),\n",
    "    metrics=[\"accuracy\"],\n",
    ")\n"
   ]
  },
  {
   "cell_type": "code",
   "execution_count": 19,
   "metadata": {
    "colab": {
     "base_uri": "https://localhost:8080/"
    },
    "executionInfo": {
     "elapsed": 38151,
     "status": "ok",
     "timestamp": 1690798629086,
     "user": {
      "displayName": "Raj Yadav",
      "userId": "17883966751087890537"
     },
     "user_tz": -330
    },
    "id": "060KxU7-_ApT",
    "outputId": "d019cc92-a410-44d0-8801-01d270ce3e31"
   },
   "outputs": [
    {
     "name": "stdout",
     "output_type": "stream",
     "text": [
      "938/938 [==============================] - 35s 28ms/step - loss: 0.2031 - accuracy: 0.9337\n",
      "157/157 - 2s - loss: 0.0349 - accuracy: 0.9884 - 2s/epoch - 12ms/step\n"
     ]
    },
    {
     "data": {
      "text/plain": [
       "[0.034905821084976196, 0.9883999824523926]"
      ]
     },
     "execution_count": 19,
     "metadata": {},
     "output_type": "execute_result"
    }
   ],
   "source": [
    "model.fit(x_train, y_train, batch_size=64, epochs=1, verbose=1)\n",
    "model.evaluate(x_test, y_test, batch_size=64, verbose=2)\n",
    "# model.save(\"pretrained\")"
   ]
  },
  {
   "cell_type": "code",
   "execution_count": 20,
   "metadata": {
    "colab": {
     "base_uri": "https://localhost:8080/"
    },
    "executionInfo": {
     "elapsed": 793,
     "status": "ok",
     "timestamp": 1690798633703,
     "user": {
      "displayName": "Raj Yadav",
      "userId": "17883966751087890537"
     },
     "user_tz": -330
    },
    "id": "CY18zDIY8dJj",
    "outputId": "33908ba7-97a8-42a0-8806-be0f875def68"
   },
   "outputs": [
    {
     "name": "stdout",
     "output_type": "stream",
     "text": [
      "Model: \"model\"\n",
      "_________________________________________________________________\n",
      " Layer (type)                Output Shape              Param #   \n",
      "=================================================================\n",
      " input_1 (InputLayer)        [(None, 28, 28, 1)]       0         \n",
      "                                                                 \n",
      " res_block (ResBlock)        (None, 14, 14, 64)        28896     \n",
      "                                                                 \n",
      " res_block_1 (ResBlock)      (None, 7, 7, 256)         592512    \n",
      "                                                                 \n",
      " res_block_2 (ResBlock)      (None, 3, 3, 512)         2364032   \n",
      "                                                                 \n",
      " global_average_pooling2d (G  (None, 512)              0         \n",
      " lobalAveragePooling2D)                                          \n",
      "                                                                 \n",
      " dense_1 (Dense)             (None, 10)                5130      \n",
      "                                                                 \n",
      "=================================================================\n",
      "Total params: 2,990,570\n",
      "Trainable params: 2,987,498\n",
      "Non-trainable params: 3,072\n",
      "_________________________________________________________________\n"
     ]
    }
   ],
   "source": [
    "model.summary()"
   ]
  },
  {
   "cell_type": "code",
   "execution_count": null,
   "metadata": {
    "id": "H7uZZeLgPAYt"
   },
   "outputs": [],
   "source": []
  }
 ],
 "metadata": {
  "accelerator": "GPU",
  "colab": {
   "authorship_tag": "ABX9TyPoyMd7H86/LmgIJLenEI9H",
   "provenance": []
  },
  "gpuClass": "standard",
  "kernelspec": {
   "display_name": "Python 3 (ipykernel)",
   "language": "python",
   "name": "python3"
  },
  "language_info": {
   "codemirror_mode": {
    "name": "ipython",
    "version": 3
   },
   "file_extension": ".py",
   "mimetype": "text/x-python",
   "name": "python",
   "nbconvert_exporter": "python",
   "pygments_lexer": "ipython3",
   "version": "3.9.12"
  }
 },
 "nbformat": 4,
 "nbformat_minor": 1
}
