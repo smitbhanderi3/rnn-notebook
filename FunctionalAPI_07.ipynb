{
 "cells": [
  {
   "cell_type": "code",
   "execution_count": 1,
   "metadata": {
    "executionInfo": {
     "elapsed": 4788,
     "status": "ok",
     "timestamp": 1690368214219,
     "user": {
      "displayName": "Raj Yadav",
      "userId": "17883966751087890537"
     },
     "user_tz": -330
    },
    "id": "Df-kT5Ba5bpO"
   },
   "outputs": [],
   "source": [
    "import os\n",
    "\n",
    "\n",
    "import tensorflow as tf\n",
    "from tensorflow import keras\n",
    "from tensorflow.keras import layers, regularizers\n",
    "from tensorflow.keras.datasets import mnist\n"
   ]
  },
  {
   "cell_type": "code",
   "execution_count": 2,
   "metadata": {
    "executionInfo": {
     "elapsed": 377,
     "status": "ok",
     "timestamp": 1690368253822,
     "user": {
      "displayName": "Raj Yadav",
      "userId": "17883966751087890537"
     },
     "user_tz": -330
    },
    "id": "Hjnjx9YB5rUf"
   },
   "outputs": [],
   "source": [
    "# Use Pandas to load dataset from csv file\n",
    "import pandas as pd\n",
    "\n",
    "# HYPERPARAMETERS\n",
    "BATCH_SIZE = 64\n",
    "WEIGHT_DECAY = 0.001\n",
    "LEARNING_RATE = 0.001\n"
   ]
  },
  {
   "cell_type": "code",
   "execution_count": 4,
   "metadata": {
    "colab": {
     "base_uri": "https://localhost:8080/"
    },
    "executionInfo": {
     "elapsed": 17485,
     "status": "ok",
     "timestamp": 1690368287792,
     "user": {
      "displayName": "Raj Yadav",
      "userId": "17883966751087890537"
     },
     "user_tz": -330
    },
    "id": "3TgIt2vEKrbc",
    "outputId": "6c717dff-ecf8-447e-a4c5-0a1e518154f3"
   },
   "outputs": [
    {
     "ename": "ModuleNotFoundError",
     "evalue": "No module named 'google.colab'",
     "output_type": "error",
     "traceback": [
      "\u001b[1;31m---------------------------------------------------------------------------\u001b[0m",
      "\u001b[1;31mModuleNotFoundError\u001b[0m                       Traceback (most recent call last)",
      "Input \u001b[1;32mIn [4]\u001b[0m, in \u001b[0;36m<cell line: 1>\u001b[1;34m()\u001b[0m\n\u001b[1;32m----> 1\u001b[0m \u001b[38;5;28;01mfrom\u001b[39;00m \u001b[38;5;21;01mgoogle\u001b[39;00m\u001b[38;5;21;01m.\u001b[39;00m\u001b[38;5;21;01mcolab\u001b[39;00m \u001b[38;5;28;01mimport\u001b[39;00m drive\n\u001b[0;32m      3\u001b[0m drive\u001b[38;5;241m.\u001b[39mmount(\u001b[38;5;124m\"\u001b[39m\u001b[38;5;124m/content/gdrive\u001b[39m\u001b[38;5;124m\"\u001b[39m)\n",
      "\u001b[1;31mModuleNotFoundError\u001b[0m: No module named 'google.colab'"
     ]
    }
   ],
   "source": [
    "# from google.colab import drive\n",
    "\n",
    "# drive.mount(\"/content/gdrive\")"
   ]
  },
  {
   "cell_type": "code",
   "execution_count": 4,
   "metadata": {
    "executionInfo": {
     "elapsed": 15845,
     "status": "ok",
     "timestamp": 1690368434751,
     "user": {
      "displayName": "Raj Yadav",
      "userId": "17883966751087890537"
     },
     "user_tz": -330
    },
    "id": "CpPlIZ02Lamv"
   },
   "outputs": [],
   "source": [
    "datapath = \"/content/gdrive/MyDrive/Deep Learning/Jupyter Notebook/datasets/archive.zip\"\n",
    "import zipfile\n",
    "zip_ref = zipfile.ZipFile(datapath, 'r')\n",
    "zip_ref.extractall(\"/content/sample_data\")\n",
    "zip_ref.close()"
   ]
  },
  {
   "cell_type": "code",
   "execution_count": 3,
   "metadata": {
    "executionInfo": {
     "elapsed": 382,
     "status": "ok",
     "timestamp": 1690368478014,
     "user": {
      "displayName": "Raj Yadav",
      "userId": "17883966751087890537"
     },
     "user_tz": -330
    },
    "id": "bVYIeUcn50aL"
   },
   "outputs": [
    {
     "ename": "FileNotFoundError",
     "evalue": "[Errno 2] No such file or directory: '/content/sample_data/train.csv'",
     "output_type": "error",
     "traceback": [
      "\u001b[1;31m---------------------------------------------------------------------------\u001b[0m",
      "\u001b[1;31mFileNotFoundError\u001b[0m                         Traceback (most recent call last)",
      "Input \u001b[1;32mIn [3]\u001b[0m, in \u001b[0;36m<cell line: 2>\u001b[1;34m()\u001b[0m\n\u001b[0;32m      1\u001b[0m data_path \u001b[38;5;241m=\u001b[39m \u001b[38;5;124m\"\u001b[39m\u001b[38;5;124m/content/sample_data/\u001b[39m\u001b[38;5;124m\"\u001b[39m\n\u001b[1;32m----> 2\u001b[0m train_df \u001b[38;5;241m=\u001b[39m \u001b[43mpd\u001b[49m\u001b[38;5;241;43m.\u001b[39;49m\u001b[43mread_csv\u001b[49m\u001b[43m(\u001b[49m\u001b[43mdata_path\u001b[49m\u001b[43m \u001b[49m\u001b[38;5;241;43m+\u001b[39;49m\u001b[43m \u001b[49m\u001b[38;5;124;43m\"\u001b[39;49m\u001b[38;5;124;43mtrain.csv\u001b[39;49m\u001b[38;5;124;43m\"\u001b[39;49m\u001b[43m)\u001b[49m\n\u001b[0;32m      3\u001b[0m test_df \u001b[38;5;241m=\u001b[39m pd\u001b[38;5;241m.\u001b[39mread_csv(data_path \u001b[38;5;241m+\u001b[39m \u001b[38;5;124m\"\u001b[39m\u001b[38;5;124mtest.csv\u001b[39m\u001b[38;5;124m\"\u001b[39m)\n",
      "File \u001b[1;32m~\\anaconda3\\lib\\site-packages\\pandas\\util\\_decorators.py:311\u001b[0m, in \u001b[0;36mdeprecate_nonkeyword_arguments.<locals>.decorate.<locals>.wrapper\u001b[1;34m(*args, **kwargs)\u001b[0m\n\u001b[0;32m    305\u001b[0m \u001b[38;5;28;01mif\u001b[39;00m \u001b[38;5;28mlen\u001b[39m(args) \u001b[38;5;241m>\u001b[39m num_allow_args:\n\u001b[0;32m    306\u001b[0m     warnings\u001b[38;5;241m.\u001b[39mwarn(\n\u001b[0;32m    307\u001b[0m         msg\u001b[38;5;241m.\u001b[39mformat(arguments\u001b[38;5;241m=\u001b[39marguments),\n\u001b[0;32m    308\u001b[0m         \u001b[38;5;167;01mFutureWarning\u001b[39;00m,\n\u001b[0;32m    309\u001b[0m         stacklevel\u001b[38;5;241m=\u001b[39mstacklevel,\n\u001b[0;32m    310\u001b[0m     )\n\u001b[1;32m--> 311\u001b[0m \u001b[38;5;28;01mreturn\u001b[39;00m func(\u001b[38;5;241m*\u001b[39margs, \u001b[38;5;241m*\u001b[39m\u001b[38;5;241m*\u001b[39mkwargs)\n",
      "File \u001b[1;32m~\\anaconda3\\lib\\site-packages\\pandas\\io\\parsers\\readers.py:680\u001b[0m, in \u001b[0;36mread_csv\u001b[1;34m(filepath_or_buffer, sep, delimiter, header, names, index_col, usecols, squeeze, prefix, mangle_dupe_cols, dtype, engine, converters, true_values, false_values, skipinitialspace, skiprows, skipfooter, nrows, na_values, keep_default_na, na_filter, verbose, skip_blank_lines, parse_dates, infer_datetime_format, keep_date_col, date_parser, dayfirst, cache_dates, iterator, chunksize, compression, thousands, decimal, lineterminator, quotechar, quoting, doublequote, escapechar, comment, encoding, encoding_errors, dialect, error_bad_lines, warn_bad_lines, on_bad_lines, delim_whitespace, low_memory, memory_map, float_precision, storage_options)\u001b[0m\n\u001b[0;32m    665\u001b[0m kwds_defaults \u001b[38;5;241m=\u001b[39m _refine_defaults_read(\n\u001b[0;32m    666\u001b[0m     dialect,\n\u001b[0;32m    667\u001b[0m     delimiter,\n\u001b[1;32m   (...)\u001b[0m\n\u001b[0;32m    676\u001b[0m     defaults\u001b[38;5;241m=\u001b[39m{\u001b[38;5;124m\"\u001b[39m\u001b[38;5;124mdelimiter\u001b[39m\u001b[38;5;124m\"\u001b[39m: \u001b[38;5;124m\"\u001b[39m\u001b[38;5;124m,\u001b[39m\u001b[38;5;124m\"\u001b[39m},\n\u001b[0;32m    677\u001b[0m )\n\u001b[0;32m    678\u001b[0m kwds\u001b[38;5;241m.\u001b[39mupdate(kwds_defaults)\n\u001b[1;32m--> 680\u001b[0m \u001b[38;5;28;01mreturn\u001b[39;00m \u001b[43m_read\u001b[49m\u001b[43m(\u001b[49m\u001b[43mfilepath_or_buffer\u001b[49m\u001b[43m,\u001b[49m\u001b[43m \u001b[49m\u001b[43mkwds\u001b[49m\u001b[43m)\u001b[49m\n",
      "File \u001b[1;32m~\\anaconda3\\lib\\site-packages\\pandas\\io\\parsers\\readers.py:575\u001b[0m, in \u001b[0;36m_read\u001b[1;34m(filepath_or_buffer, kwds)\u001b[0m\n\u001b[0;32m    572\u001b[0m _validate_names(kwds\u001b[38;5;241m.\u001b[39mget(\u001b[38;5;124m\"\u001b[39m\u001b[38;5;124mnames\u001b[39m\u001b[38;5;124m\"\u001b[39m, \u001b[38;5;28;01mNone\u001b[39;00m))\n\u001b[0;32m    574\u001b[0m \u001b[38;5;66;03m# Create the parser.\u001b[39;00m\n\u001b[1;32m--> 575\u001b[0m parser \u001b[38;5;241m=\u001b[39m TextFileReader(filepath_or_buffer, \u001b[38;5;241m*\u001b[39m\u001b[38;5;241m*\u001b[39mkwds)\n\u001b[0;32m    577\u001b[0m \u001b[38;5;28;01mif\u001b[39;00m chunksize \u001b[38;5;129;01mor\u001b[39;00m iterator:\n\u001b[0;32m    578\u001b[0m     \u001b[38;5;28;01mreturn\u001b[39;00m parser\n",
      "File \u001b[1;32m~\\anaconda3\\lib\\site-packages\\pandas\\io\\parsers\\readers.py:933\u001b[0m, in \u001b[0;36mTextFileReader.__init__\u001b[1;34m(self, f, engine, **kwds)\u001b[0m\n\u001b[0;32m    930\u001b[0m     \u001b[38;5;28mself\u001b[39m\u001b[38;5;241m.\u001b[39moptions[\u001b[38;5;124m\"\u001b[39m\u001b[38;5;124mhas_index_names\u001b[39m\u001b[38;5;124m\"\u001b[39m] \u001b[38;5;241m=\u001b[39m kwds[\u001b[38;5;124m\"\u001b[39m\u001b[38;5;124mhas_index_names\u001b[39m\u001b[38;5;124m\"\u001b[39m]\n\u001b[0;32m    932\u001b[0m \u001b[38;5;28mself\u001b[39m\u001b[38;5;241m.\u001b[39mhandles: IOHandles \u001b[38;5;241m|\u001b[39m \u001b[38;5;28;01mNone\u001b[39;00m \u001b[38;5;241m=\u001b[39m \u001b[38;5;28;01mNone\u001b[39;00m\n\u001b[1;32m--> 933\u001b[0m \u001b[38;5;28mself\u001b[39m\u001b[38;5;241m.\u001b[39m_engine \u001b[38;5;241m=\u001b[39m \u001b[38;5;28;43mself\u001b[39;49m\u001b[38;5;241;43m.\u001b[39;49m\u001b[43m_make_engine\u001b[49m\u001b[43m(\u001b[49m\u001b[43mf\u001b[49m\u001b[43m,\u001b[49m\u001b[43m \u001b[49m\u001b[38;5;28;43mself\u001b[39;49m\u001b[38;5;241;43m.\u001b[39;49m\u001b[43mengine\u001b[49m\u001b[43m)\u001b[49m\n",
      "File \u001b[1;32m~\\anaconda3\\lib\\site-packages\\pandas\\io\\parsers\\readers.py:1217\u001b[0m, in \u001b[0;36mTextFileReader._make_engine\u001b[1;34m(self, f, engine)\u001b[0m\n\u001b[0;32m   1213\u001b[0m     mode \u001b[38;5;241m=\u001b[39m \u001b[38;5;124m\"\u001b[39m\u001b[38;5;124mrb\u001b[39m\u001b[38;5;124m\"\u001b[39m\n\u001b[0;32m   1214\u001b[0m \u001b[38;5;66;03m# error: No overload variant of \"get_handle\" matches argument types\u001b[39;00m\n\u001b[0;32m   1215\u001b[0m \u001b[38;5;66;03m# \"Union[str, PathLike[str], ReadCsvBuffer[bytes], ReadCsvBuffer[str]]\"\u001b[39;00m\n\u001b[0;32m   1216\u001b[0m \u001b[38;5;66;03m# , \"str\", \"bool\", \"Any\", \"Any\", \"Any\", \"Any\", \"Any\"\u001b[39;00m\n\u001b[1;32m-> 1217\u001b[0m \u001b[38;5;28mself\u001b[39m\u001b[38;5;241m.\u001b[39mhandles \u001b[38;5;241m=\u001b[39m \u001b[43mget_handle\u001b[49m\u001b[43m(\u001b[49m\u001b[43m  \u001b[49m\u001b[38;5;66;43;03m# type: ignore[call-overload]\u001b[39;49;00m\n\u001b[0;32m   1218\u001b[0m \u001b[43m    \u001b[49m\u001b[43mf\u001b[49m\u001b[43m,\u001b[49m\n\u001b[0;32m   1219\u001b[0m \u001b[43m    \u001b[49m\u001b[43mmode\u001b[49m\u001b[43m,\u001b[49m\n\u001b[0;32m   1220\u001b[0m \u001b[43m    \u001b[49m\u001b[43mencoding\u001b[49m\u001b[38;5;241;43m=\u001b[39;49m\u001b[38;5;28;43mself\u001b[39;49m\u001b[38;5;241;43m.\u001b[39;49m\u001b[43moptions\u001b[49m\u001b[38;5;241;43m.\u001b[39;49m\u001b[43mget\u001b[49m\u001b[43m(\u001b[49m\u001b[38;5;124;43m\"\u001b[39;49m\u001b[38;5;124;43mencoding\u001b[39;49m\u001b[38;5;124;43m\"\u001b[39;49m\u001b[43m,\u001b[49m\u001b[43m \u001b[49m\u001b[38;5;28;43;01mNone\u001b[39;49;00m\u001b[43m)\u001b[49m\u001b[43m,\u001b[49m\n\u001b[0;32m   1221\u001b[0m \u001b[43m    \u001b[49m\u001b[43mcompression\u001b[49m\u001b[38;5;241;43m=\u001b[39;49m\u001b[38;5;28;43mself\u001b[39;49m\u001b[38;5;241;43m.\u001b[39;49m\u001b[43moptions\u001b[49m\u001b[38;5;241;43m.\u001b[39;49m\u001b[43mget\u001b[49m\u001b[43m(\u001b[49m\u001b[38;5;124;43m\"\u001b[39;49m\u001b[38;5;124;43mcompression\u001b[39;49m\u001b[38;5;124;43m\"\u001b[39;49m\u001b[43m,\u001b[49m\u001b[43m \u001b[49m\u001b[38;5;28;43;01mNone\u001b[39;49;00m\u001b[43m)\u001b[49m\u001b[43m,\u001b[49m\n\u001b[0;32m   1222\u001b[0m \u001b[43m    \u001b[49m\u001b[43mmemory_map\u001b[49m\u001b[38;5;241;43m=\u001b[39;49m\u001b[38;5;28;43mself\u001b[39;49m\u001b[38;5;241;43m.\u001b[39;49m\u001b[43moptions\u001b[49m\u001b[38;5;241;43m.\u001b[39;49m\u001b[43mget\u001b[49m\u001b[43m(\u001b[49m\u001b[38;5;124;43m\"\u001b[39;49m\u001b[38;5;124;43mmemory_map\u001b[39;49m\u001b[38;5;124;43m\"\u001b[39;49m\u001b[43m,\u001b[49m\u001b[43m \u001b[49m\u001b[38;5;28;43;01mFalse\u001b[39;49;00m\u001b[43m)\u001b[49m\u001b[43m,\u001b[49m\n\u001b[0;32m   1223\u001b[0m \u001b[43m    \u001b[49m\u001b[43mis_text\u001b[49m\u001b[38;5;241;43m=\u001b[39;49m\u001b[43mis_text\u001b[49m\u001b[43m,\u001b[49m\n\u001b[0;32m   1224\u001b[0m \u001b[43m    \u001b[49m\u001b[43merrors\u001b[49m\u001b[38;5;241;43m=\u001b[39;49m\u001b[38;5;28;43mself\u001b[39;49m\u001b[38;5;241;43m.\u001b[39;49m\u001b[43moptions\u001b[49m\u001b[38;5;241;43m.\u001b[39;49m\u001b[43mget\u001b[49m\u001b[43m(\u001b[49m\u001b[38;5;124;43m\"\u001b[39;49m\u001b[38;5;124;43mencoding_errors\u001b[39;49m\u001b[38;5;124;43m\"\u001b[39;49m\u001b[43m,\u001b[49m\u001b[43m \u001b[49m\u001b[38;5;124;43m\"\u001b[39;49m\u001b[38;5;124;43mstrict\u001b[39;49m\u001b[38;5;124;43m\"\u001b[39;49m\u001b[43m)\u001b[49m\u001b[43m,\u001b[49m\n\u001b[0;32m   1225\u001b[0m \u001b[43m    \u001b[49m\u001b[43mstorage_options\u001b[49m\u001b[38;5;241;43m=\u001b[39;49m\u001b[38;5;28;43mself\u001b[39;49m\u001b[38;5;241;43m.\u001b[39;49m\u001b[43moptions\u001b[49m\u001b[38;5;241;43m.\u001b[39;49m\u001b[43mget\u001b[49m\u001b[43m(\u001b[49m\u001b[38;5;124;43m\"\u001b[39;49m\u001b[38;5;124;43mstorage_options\u001b[39;49m\u001b[38;5;124;43m\"\u001b[39;49m\u001b[43m,\u001b[49m\u001b[43m \u001b[49m\u001b[38;5;28;43;01mNone\u001b[39;49;00m\u001b[43m)\u001b[49m\u001b[43m,\u001b[49m\n\u001b[0;32m   1226\u001b[0m \u001b[43m\u001b[49m\u001b[43m)\u001b[49m\n\u001b[0;32m   1227\u001b[0m \u001b[38;5;28;01massert\u001b[39;00m \u001b[38;5;28mself\u001b[39m\u001b[38;5;241m.\u001b[39mhandles \u001b[38;5;129;01mis\u001b[39;00m \u001b[38;5;129;01mnot\u001b[39;00m \u001b[38;5;28;01mNone\u001b[39;00m\n\u001b[0;32m   1228\u001b[0m f \u001b[38;5;241m=\u001b[39m \u001b[38;5;28mself\u001b[39m\u001b[38;5;241m.\u001b[39mhandles\u001b[38;5;241m.\u001b[39mhandle\n",
      "File \u001b[1;32m~\\anaconda3\\lib\\site-packages\\pandas\\io\\common.py:789\u001b[0m, in \u001b[0;36mget_handle\u001b[1;34m(path_or_buf, mode, encoding, compression, memory_map, is_text, errors, storage_options)\u001b[0m\n\u001b[0;32m    784\u001b[0m \u001b[38;5;28;01melif\u001b[39;00m \u001b[38;5;28misinstance\u001b[39m(handle, \u001b[38;5;28mstr\u001b[39m):\n\u001b[0;32m    785\u001b[0m     \u001b[38;5;66;03m# Check whether the filename is to be opened in binary mode.\u001b[39;00m\n\u001b[0;32m    786\u001b[0m     \u001b[38;5;66;03m# Binary mode does not support 'encoding' and 'newline'.\u001b[39;00m\n\u001b[0;32m    787\u001b[0m     \u001b[38;5;28;01mif\u001b[39;00m ioargs\u001b[38;5;241m.\u001b[39mencoding \u001b[38;5;129;01mand\u001b[39;00m \u001b[38;5;124m\"\u001b[39m\u001b[38;5;124mb\u001b[39m\u001b[38;5;124m\"\u001b[39m \u001b[38;5;129;01mnot\u001b[39;00m \u001b[38;5;129;01min\u001b[39;00m ioargs\u001b[38;5;241m.\u001b[39mmode:\n\u001b[0;32m    788\u001b[0m         \u001b[38;5;66;03m# Encoding\u001b[39;00m\n\u001b[1;32m--> 789\u001b[0m         handle \u001b[38;5;241m=\u001b[39m \u001b[38;5;28;43mopen\u001b[39;49m\u001b[43m(\u001b[49m\n\u001b[0;32m    790\u001b[0m \u001b[43m            \u001b[49m\u001b[43mhandle\u001b[49m\u001b[43m,\u001b[49m\n\u001b[0;32m    791\u001b[0m \u001b[43m            \u001b[49m\u001b[43mioargs\u001b[49m\u001b[38;5;241;43m.\u001b[39;49m\u001b[43mmode\u001b[49m\u001b[43m,\u001b[49m\n\u001b[0;32m    792\u001b[0m \u001b[43m            \u001b[49m\u001b[43mencoding\u001b[49m\u001b[38;5;241;43m=\u001b[39;49m\u001b[43mioargs\u001b[49m\u001b[38;5;241;43m.\u001b[39;49m\u001b[43mencoding\u001b[49m\u001b[43m,\u001b[49m\n\u001b[0;32m    793\u001b[0m \u001b[43m            \u001b[49m\u001b[43merrors\u001b[49m\u001b[38;5;241;43m=\u001b[39;49m\u001b[43merrors\u001b[49m\u001b[43m,\u001b[49m\n\u001b[0;32m    794\u001b[0m \u001b[43m            \u001b[49m\u001b[43mnewline\u001b[49m\u001b[38;5;241;43m=\u001b[39;49m\u001b[38;5;124;43m\"\u001b[39;49m\u001b[38;5;124;43m\"\u001b[39;49m\u001b[43m,\u001b[49m\n\u001b[0;32m    795\u001b[0m \u001b[43m        \u001b[49m\u001b[43m)\u001b[49m\n\u001b[0;32m    796\u001b[0m     \u001b[38;5;28;01melse\u001b[39;00m:\n\u001b[0;32m    797\u001b[0m         \u001b[38;5;66;03m# Binary mode\u001b[39;00m\n\u001b[0;32m    798\u001b[0m         handle \u001b[38;5;241m=\u001b[39m \u001b[38;5;28mopen\u001b[39m(handle, ioargs\u001b[38;5;241m.\u001b[39mmode)\n",
      "\u001b[1;31mFileNotFoundError\u001b[0m: [Errno 2] No such file or directory: '/content/sample_data/train.csv'"
     ]
    }
   ],
   "source": [
    "data_path = \"/content/sample_data/\"\n",
    "train_df = pd.read_csv(data_path + \"train.csv\")\n",
    "test_df = pd.read_csv(data_path + \"test.csv\")\n"
   ]
  },
  {
   "cell_type": "code",
   "execution_count": 6,
   "metadata": {
    "colab": {
     "base_uri": "https://localhost:8080/",
     "height": 307
    },
    "executionInfo": {
     "elapsed": 387,
     "status": "ok",
     "timestamp": 1690368482444,
     "user": {
      "displayName": "Raj Yadav",
      "userId": "17883966751087890537"
     },
     "user_tz": -330
    },
    "id": "ryRP-0M0IyyU",
    "outputId": "6b4d0076-4880-40c9-ee77-4f3f3ed1e28c"
   },
   "outputs": [
    {
     "data": {
      "text/html": [
       "\n",
       "\n",
       "  <div id=\"df-d4bf25de-28ad-48fb-8e07-10a344560c33\">\n",
       "    <div class=\"colab-df-container\">\n",
       "      <div>\n",
       "<style scoped>\n",
       "    .dataframe tbody tr th:only-of-type {\n",
       "        vertical-align: middle;\n",
       "    }\n",
       "\n",
       "    .dataframe tbody tr th {\n",
       "        vertical-align: top;\n",
       "    }\n",
       "\n",
       "    .dataframe thead th {\n",
       "        text-align: right;\n",
       "    }\n",
       "</style>\n",
       "<table border=\"1\" class=\"dataframe\">\n",
       "  <thead>\n",
       "    <tr style=\"text-align: right;\">\n",
       "      <th></th>\n",
       "      <th>Image</th>\n",
       "      <th>first_num</th>\n",
       "      <th>second_num</th>\n",
       "    </tr>\n",
       "  </thead>\n",
       "  <tbody>\n",
       "    <tr>\n",
       "      <th>0</th>\n",
       "      <td>0_00.png</td>\n",
       "      <td>0</td>\n",
       "      <td>0</td>\n",
       "    </tr>\n",
       "    <tr>\n",
       "      <th>1</th>\n",
       "      <td>100_00.png</td>\n",
       "      <td>0</td>\n",
       "      <td>0</td>\n",
       "    </tr>\n",
       "  </tbody>\n",
       "</table>\n",
       "</div>\n",
       "      <button class=\"colab-df-convert\" onclick=\"convertToInteractive('df-d4bf25de-28ad-48fb-8e07-10a344560c33')\"\n",
       "              title=\"Convert this dataframe to an interactive table.\"\n",
       "              style=\"display:none;\">\n",
       "\n",
       "  <svg xmlns=\"http://www.w3.org/2000/svg\" height=\"24px\"viewBox=\"0 0 24 24\"\n",
       "       width=\"24px\">\n",
       "    <path d=\"M0 0h24v24H0V0z\" fill=\"none\"/>\n",
       "    <path d=\"M18.56 5.44l.94 2.06.94-2.06 2.06-.94-2.06-.94-.94-2.06-.94 2.06-2.06.94zm-11 1L8.5 8.5l.94-2.06 2.06-.94-2.06-.94L8.5 2.5l-.94 2.06-2.06.94zm10 10l.94 2.06.94-2.06 2.06-.94-2.06-.94-.94-2.06-.94 2.06-2.06.94z\"/><path d=\"M17.41 7.96l-1.37-1.37c-.4-.4-.92-.59-1.43-.59-.52 0-1.04.2-1.43.59L10.3 9.45l-7.72 7.72c-.78.78-.78 2.05 0 2.83L4 21.41c.39.39.9.59 1.41.59.51 0 1.02-.2 1.41-.59l7.78-7.78 2.81-2.81c.8-.78.8-2.07 0-2.86zM5.41 20L4 18.59l7.72-7.72 1.47 1.35L5.41 20z\"/>\n",
       "  </svg>\n",
       "      </button>\n",
       "\n",
       "\n",
       "\n",
       "    <div id=\"df-39702a6b-0ad6-40bb-8ff8-26737bce6108\">\n",
       "      <button class=\"colab-df-quickchart\" onclick=\"quickchart('df-39702a6b-0ad6-40bb-8ff8-26737bce6108')\"\n",
       "              title=\"Suggest charts.\"\n",
       "              style=\"display:none;\">\n",
       "\n",
       "<svg xmlns=\"http://www.w3.org/2000/svg\" height=\"24px\"viewBox=\"0 0 24 24\"\n",
       "     width=\"24px\">\n",
       "    <g>\n",
       "        <path d=\"M19 3H5c-1.1 0-2 .9-2 2v14c0 1.1.9 2 2 2h14c1.1 0 2-.9 2-2V5c0-1.1-.9-2-2-2zM9 17H7v-7h2v7zm4 0h-2V7h2v10zm4 0h-2v-4h2v4z\"/>\n",
       "    </g>\n",
       "</svg>\n",
       "      </button>\n",
       "    </div>\n",
       "\n",
       "<style>\n",
       "  .colab-df-quickchart {\n",
       "    background-color: #E8F0FE;\n",
       "    border: none;\n",
       "    border-radius: 50%;\n",
       "    cursor: pointer;\n",
       "    display: none;\n",
       "    fill: #1967D2;\n",
       "    height: 32px;\n",
       "    padding: 0 0 0 0;\n",
       "    width: 32px;\n",
       "  }\n",
       "\n",
       "  .colab-df-quickchart:hover {\n",
       "    background-color: #E2EBFA;\n",
       "    box-shadow: 0px 1px 2px rgba(60, 64, 67, 0.3), 0px 1px 3px 1px rgba(60, 64, 67, 0.15);\n",
       "    fill: #174EA6;\n",
       "  }\n",
       "\n",
       "  [theme=dark] .colab-df-quickchart {\n",
       "    background-color: #3B4455;\n",
       "    fill: #D2E3FC;\n",
       "  }\n",
       "\n",
       "  [theme=dark] .colab-df-quickchart:hover {\n",
       "    background-color: #434B5C;\n",
       "    box-shadow: 0px 1px 3px 1px rgba(0, 0, 0, 0.15);\n",
       "    filter: drop-shadow(0px 1px 2px rgba(0, 0, 0, 0.3));\n",
       "    fill: #FFFFFF;\n",
       "  }\n",
       "</style>\n",
       "\n",
       "    <script>\n",
       "      async function quickchart(key) {\n",
       "        const containerElement = document.querySelector('#' + key);\n",
       "        const charts = await google.colab.kernel.invokeFunction(\n",
       "            'suggestCharts', [key], {});\n",
       "      }\n",
       "    </script>\n",
       "\n",
       "      <script>\n",
       "\n",
       "function displayQuickchartButton(domScope) {\n",
       "  let quickchartButtonEl =\n",
       "    domScope.querySelector('#df-39702a6b-0ad6-40bb-8ff8-26737bce6108 button.colab-df-quickchart');\n",
       "  quickchartButtonEl.style.display =\n",
       "    google.colab.kernel.accessAllowed ? 'block' : 'none';\n",
       "}\n",
       "\n",
       "        displayQuickchartButton(document);\n",
       "      </script>\n",
       "      <style>\n",
       "    .colab-df-container {\n",
       "      display:flex;\n",
       "      flex-wrap:wrap;\n",
       "      gap: 12px;\n",
       "    }\n",
       "\n",
       "    .colab-df-convert {\n",
       "      background-color: #E8F0FE;\n",
       "      border: none;\n",
       "      border-radius: 50%;\n",
       "      cursor: pointer;\n",
       "      display: none;\n",
       "      fill: #1967D2;\n",
       "      height: 32px;\n",
       "      padding: 0 0 0 0;\n",
       "      width: 32px;\n",
       "    }\n",
       "\n",
       "    .colab-df-convert:hover {\n",
       "      background-color: #E2EBFA;\n",
       "      box-shadow: 0px 1px 2px rgba(60, 64, 67, 0.3), 0px 1px 3px 1px rgba(60, 64, 67, 0.15);\n",
       "      fill: #174EA6;\n",
       "    }\n",
       "\n",
       "    [theme=dark] .colab-df-convert {\n",
       "      background-color: #3B4455;\n",
       "      fill: #D2E3FC;\n",
       "    }\n",
       "\n",
       "    [theme=dark] .colab-df-convert:hover {\n",
       "      background-color: #434B5C;\n",
       "      box-shadow: 0px 1px 3px 1px rgba(0, 0, 0, 0.15);\n",
       "      filter: drop-shadow(0px 1px 2px rgba(0, 0, 0, 0.3));\n",
       "      fill: #FFFFFF;\n",
       "    }\n",
       "  </style>\n",
       "\n",
       "      <script>\n",
       "        const buttonEl =\n",
       "          document.querySelector('#df-d4bf25de-28ad-48fb-8e07-10a344560c33 button.colab-df-convert');\n",
       "        buttonEl.style.display =\n",
       "          google.colab.kernel.accessAllowed ? 'block' : 'none';\n",
       "\n",
       "        async function convertToInteractive(key) {\n",
       "          const element = document.querySelector('#df-d4bf25de-28ad-48fb-8e07-10a344560c33');\n",
       "          const dataTable =\n",
       "            await google.colab.kernel.invokeFunction('convertToInteractive',\n",
       "                                                     [key], {});\n",
       "          if (!dataTable) return;\n",
       "\n",
       "          const docLinkHtml = 'Like what you see? Visit the ' +\n",
       "            '<a target=\"_blank\" href=https://colab.research.google.com/notebooks/data_table.ipynb>data table notebook</a>'\n",
       "            + ' to learn more about interactive tables.';\n",
       "          element.innerHTML = '';\n",
       "          dataTable['output_type'] = 'display_data';\n",
       "          await google.colab.output.renderOutput(dataTable, element);\n",
       "          const docLink = document.createElement('div');\n",
       "          docLink.innerHTML = docLinkHtml;\n",
       "          element.appendChild(docLink);\n",
       "        }\n",
       "      </script>\n",
       "    </div>\n",
       "  </div>\n"
      ],
      "text/plain": [
       "        Image  first_num  second_num\n",
       "0    0_00.png          0           0\n",
       "1  100_00.png          0           0"
      ]
     },
     "execution_count": 6,
     "metadata": {},
     "output_type": "execute_result"
    },
    {
     "data": {
      "text/html": [
       "<h4 class=\"colab-quickchart-section-title\">Categorical distributions</h4>\n",
       "<style>\n",
       "  .colab-quickchart-section-title {\n",
       "      clear: both;\n",
       "  }\n",
       "</style>"
      ],
      "text/plain": [
       "<google.colab._quickchart_helpers.SectionTitle at 0x7e2854c1bfd0>"
      ]
     },
     "metadata": {},
     "output_type": "display_data"
    },
    {
     "data": {
      "text/html": [
       "      <div class=\"colab-quickchart-chart-with-code\" id=\"chart-47ede58d-dbe4-427e-bd70-00dc9492a12a\">\n",
       "        <img src=\"data:image/png;base64,iVBORw0KGgoAAAANSUhEUgAAAPsAAACWCAYAAAAYGP4iAAAAOXRFWHRTb2Z0d2FyZQBNYXRwbG90\n",
       "bGliIHZlcnNpb24zLjcuMSwgaHR0cHM6Ly9tYXRwbG90bGliLm9yZy/bCgiHAAAACXBIWXMAAA9h\n",
       "AAAPYQGoP6dpAAAOkUlEQVR4nO3df0xTd78H8Heflqfoxo8t2LVSWi4tZPJMhmwdCmPrnGK2OWPG\n",
       "NlGR+bgIxATnjSaGbAbclmDUbNHNRUwMxjWaZWI257aY6ISxaDQmM0TJQsEfbbXAZiLohlDo9/6x\n",
       "67m3j1Aq1hb4vl/JSXrO93tOP+eb8z6nLeVUJYQQIKJJ7x/RLoCIIoNhJ5IEw04kCYadSBIMO5Ek\n",
       "GHYiSTDsRJJg2IkkwbATSYJhJ5IEw05jZrfb8cEHH0S7DAoRw04kCYadwiI1NRU1NTVYsGABHn30\n",
       "UaSnp+Onn35CY2MjsrKyEBcXh3nz5qGzs1NZZ9euXXjqqacQHx8PvV6PFStW4I8//lDafT4f1q9f\n",
       "D71ej2nTpqGqqgrPP/88ampqlD7Xrl3DsmXLkJycDJ1Oh6VLl+L333+P5K5PGAw7hU19fT22bt2K\n",
       "np4eLFq0CMuXL8fOnTtx4sQJXL9+HX/99Reqq6uV/nq9HocPH8bNmzdx5swZtLW1obKyUmmvra3F\n",
       "N998g6amJng8Hmi1Wpw5c0Zp7+/vx8svv4zp06ejra0Nly5dgkajwbJlyyK63xOGIBqjF198Ubz/\n",
       "/vtCCCHMZrP48MMPlbbz588LAOLUqVPKsu3bt4vs7OwRt3f48GHx+OOPK/MWi0Xs2rVLmR8cHBQ6\n",
       "nU5UV1cLIYRoaGgQ06dPF36/X+nj8XgEAOF2ux94/yYbTbRPNjR5GAwG5fEjjzwy7LJbt24p84cP\n",
       "H8b27dvR3t6OO3fuwO/3488//8TQ0BDUajWuXbsGs9ms9Fer1UhJSVHmnU4nurq68NhjjwXUodVq\n",
       "4XK5YDQaw76PExlfxlNUeDwevPXWW6isrITL5UJvby++/PJLAID43/upJCcn4+rVq8o6fr8fHo9H\n",
       "mdfr9TCbzbh582bAdOfOHeTl5UV2hyYAhp2i4vbt2/D7/UhKSkJsbCycTidqa2sD+qxYsQKffvop\n",
       "2traMDAwgI8//hg3btxQ2t944w34fD5s2rQJPT09AIDu7m589dVXEd2XiYJhp6h48sknUVtbi9LS\n",
       "UsTFxeGdd95BSUlJQJ+qqiq89tprKCgoQHJyMvr6+jBr1izExsYCAOLi4nD69Gm4XC7MnDkT8fHx\n",
       "yMvLw88//xyNXRr3VELwHnQ0MQwODsJgMGDnzp1YunRptMuZcHhlp3Hr1q1b+O677zAwMIDbt29j\n",
       "48aN8Pv9eOWVV6Jd2oTEsNO45ff78dFHHyEpKQnJyck4e/YsfvjhByQmJka7tAmJL+OJJMErO5Ek\n",
       "GHYiSTDsRJJg2IkkwbA/BDt27Ih2CUT3YNgfgv//fW6i8YJhJ5IEw04kCX6p5iH4979UqLLxPErh\n",
       "kbFvKCzb4RFJJAmGnUgSDDuRJBh2Ikkw7ESSYNiJJMGwE0mCYSeSBMNOJAmGnUgSDDuRJBh2Ikkw\n",
       "7ESSYNiJJMGwE0nivsK+du1apKamQqVS4fz588pyp9OJvLw8ZGRkwGaz4eLFiyG1jWTv3r1IT0+H\n",
       "xWLB6tWr4fP5QmojopHdV9jffPNN/PLLLzCbzQHLy8vLUVZWhra2NmzcuBErV64MqW04ly9fxqZN\n",
       "m9Dc3Iz29nZ0dXVhz549o7YRUXD3FfYXXngBRqMxYFl3dzfOnTun/NxuUVER3G432tvbg7aN5NCh\n",
       "Q1i0aBH0ej1UKhUqKipw8ODBUdv+k91uR2VlJWw2G6xWK9avX4+7N+Wx2+3YsGEDCgoKYLFYUFFR\n",
       "oazn9XpRWFiIzMxMFBYWori4GDU1NSPW29/fj97e3oBpyD/6WBJF2gO/Z3e73TAYDNBoNAAAlUoF\n",
       "k8kEl8sVtG0kLpcr4JVDamqq0j9Y23BaW1tx6tQptLS0oKmpKeDE0NHRgZMnT+LChQs4duwYTp8+\n",
       "DeDvtypz5sxBa2sr9u/fj8bGxqD7X1tbi4SEhICp5Y+gqxBFxaT+gK60tBQxMTGYOnUqSkpKcPz4\n",
       "caVtyZIl0Gg0mDJlCrKzs9HR0QEAOHHiBFatWgUA0Ov1WLhwYdDnqKqqQk9PT8CUlfTw9olorDQP\n",
       "uoGUlBR4vV4MDg5Co9FACAGXywWTyYT4+PgR20ZiMpmU4AHAlStXlP7B2kKhUqmUx7GxscpjtVqN\n",
       "wcHBUdcZjlarhVarDVimntSnUJqoHviw1Ol0yMnJgcPhAAA0NDTAaDTCarUGbRtJUVERjhw5gs7O\n",
       "TgghsHv3bhQXF4/aNhyHwwGfz4e+vj4cOHAA8+bNG3V/5s6di3379gEAurq6cPTo0VCHgmhcu6+w\n",
       "l5eXw2g0wuPxYMGCBUpo6+rqUFdXh4yMDGzZsgX19fXKOsHahpOWlobNmzcjPz8fVqsV06ZNQ3l5\n",
       "+aht169fR3Z2dsC2ZsyYgfz8fMycORMFBQVBTwx37dixA83NzcjMzMTy5cuRm5uLxMTE+xglovFp\n",
       "0t433m63Y926dVi8ePF9rdfX14eYmBhoNBrcuHEDs2fPhsPhQG5ubsjb4H3jKZzCdd/4B37PPtk4\n",
       "nU6UlpZCCIGBgQGsWbPmvoJONF5F5cre3d2NwsLCe5bPnz8f27Zti3Q5YccrO4XThL6y63S6gK/b\n",
       "EtHDx8sPkSQYdiJJMOxEkmDYiSTBsBNJgmEnkgTDTiQJhp1IEgw7kST43fiH4LEF/42MTz6JdhlE\n",
       "AXhlJ5IEw04kCYadSBIMO5EkGHYiSTDsRJJg2IkkwbATSYJhJ5LEpL2VdDQ9usCGxOKXo10GTRKe\n",
       "f28Jy3Z4ZSeSBMNOJAmGnUgSDDuRJBh2Ikkw7ESSYNiJJMGwE0mCYSeSBMNOJAmGnUgSDDuRJBh2\n",
       "Ikkw7ESSYNiJJBGxsDudTuTl5SEjIwM2mw0XL14M2n/v3r1IT0+HxWLB6tWr4fP5QmojouFFLOzl\n",
       "5eUoKytDW1sbNm7ciJUrV47Y9/Lly9i0aROam5vR3t6Orq4u7NmzZ9S2aOjv70dvb2/AhCHeD4TG\n",
       "n4iEvbu7G+fOnUNJSQkAoKioCG63G+3t7cP2P3ToEBYtWgS9Xg+VSoWKigocPHhw1Lb/ZLfbUVlZ\n",
       "CZvNBqvVivXr1+PujXnsdjs2bNiAgoICWCwWVFRUKOt5vV4UFhYiMzMThYWFKC4uRk1NzbDPUVtb\n",
       "i4SEhIBp4LJ3rENF9NBEJOxutxsGgwEazd+/I6lSqWAymeByuYbt73K5YDablfnU1FSlb7C24bS2\n",
       "tuLUqVNoaWlBU1NTwImho6MDJ0+exIULF3Ds2DGcPn0aALB27VrMmTMHra2t2L9/PxobG0fcflVV\n",
       "FXp6egKmf/6XYfRBIYqwSf8BXWlpKWJiYjB16lSUlJTg+PHjStuSJUug0WgwZcoUZGdno6OjAwBw\n",
       "4sQJrFq1CgCg1+uxcOHCEbev1WoRHx8fMEGterg7RTQGEQl7SkoKvF4vBgcHAQBCCLhcLphMpmH7\n",
       "m0wmXL16VZm/cuWK0jdYWyhUqv8LYmxsrPJYrVYr9QVbh2iiikjYdTodcnJy4HA4AAANDQ0wGo2w\n",
       "Wq3D9i8qKsKRI0fQ2dkJIQR2796N4uLiUduG43A44PP50NfXhwMHDmDevHmj1jt37lzs27cPANDV\n",
       "1YWjR4/e5x4TjT8RexlfV1eHuro6ZGRkYMuWLaivrx+xb1paGjZv3oz8/HxYrVZMmzYN5eXlo7Zd\n",
       "v34d2dnZAduaMWMG8vPzMXPmTBQUFAQ9Mdy1Y8cONDc3IzMzE8uXL0dubi4SExPHvO9E48Gkvm+8\n",
       "3W7HunXrsHjx4vtar6+vDzExMdBoNLhx4wZmz54Nh8OB3NzckNbnfeMpnMJ133hNWLYyyTidTpSW\n",
       "lkIIgYGBAaxZsybkoBONV1ELe3d3NwoLC+9ZPn/+fGzbti0szxHsT2bBZGVl4fz582GpgWi8iFrY\n",
       "dTodA0UUQZP+7+xE9DeGnUgSDDuRJBh2Ikkw7ESSYNiJJMGwE0mCYSeSBMNOJAl+N/4hKPtXAT4J\n",
       "0z8vEIULr+xEkmDYiSTBsBNJgu/Zw6y/vx8//vgjhoaGoFaro13OuDU0NISzZ8/iueee4zgFMdo4\n",
       "mc1mvPfeeyFta1LfqSYaent7kZCQgJ6enr/vNEvD4jiFJpzjxJfxRJJg2IkkwbATSYJhDzOtVovq\n",
       "6mpotdpolzKucZxCE85x4gd0RJLglZ1IEgw7kSQYdiJJMOxj5HQ6kZeXh4yMDNhsNly8eHHYfnv3\n",
       "7kV6ejosFgtWr14Nn88X4UqjK5RxamxsVH42++7U19cXhWqjY+3atUhNTYVKpQr6WwoPfCwJGpOX\n",
       "XnpJ1NfXCyGE+Prrr8Wzzz57T59Lly4Jg8EgvF6v8Pv94vXXXxeff/55hCuNrlDG6eTJk+Lpp5+O\n",
       "bGHjSFNTk3C73cJsNotff/112D7hOJYY9jHo6uoScXFxwufzCSGE8Pv94oknnhBOpzOg39atW0V5\n",
       "ebky//3334v8/PyI1hpNoY6T7GG/K1jYw3Es8WX8GLjdbhgMBmg0f/8fkUqlgslkgsvlCujncrlg\n",
       "NpuV+dTU1Hv6TGahjhMAdHR0ICcnBzabDV988UWkSx33wnEs8b/eKOpycnLg8XiQkJAAj8eDV199\n",
       "FUlJSXj77bejXdqkwiv7GKSkpMDr9WJwcBAAIISAy+WCyWQK6GcymXD16lVl/sqVK/f0mcxCHaf4\n",
       "+HgkJCQAAIxGI5YuXYrm5uaI1zueheNYYtjHQKfTIScnBw6HAwDQ0NAAo9EIq9Ua0K+oqAhHjhxB\n",
       "Z2cnhBDYvXs3iouLo1FyVIQ6Tl6vF36/HwBw69YtHD16FLNmzYp4veNZWI6lsX6YILvffvtNzJ49\n",
       "W6Snp4tnnnlGtLS0CCGEePfdd8W3336r9NuzZ49IS0sTaWlpYtWqVWJgYCBaJUdFKOP02WeficzM\n",
       "TJGVlSUyMzNFdXW18Pv90Sw7osrKykRycrJQq9VCp9MJi8UihAj/scTvxhNJgi/jiSTBsBNJgmEn\n",
       "kgTDTiQJhp1IEgw7kSQYdiJJMOxEkmDYiSTBsBNJgmEnksT/AHfE7+U7/1aOAAAAAElFTkSuQmCC\n",
       "\">\n",
       "        \n",
       "      </div>\n",
       "      <script></script>\n",
       "      <script type=\"text/javascript\">\n",
       "        (() => {\n",
       "          const chartElement = document.getElementById(\"chart-47ede58d-dbe4-427e-bd70-00dc9492a12a\");\n",
       "          async function getCodeForChartHandler(event) {\n",
       "            const chartCodeResponse =  await google.colab.kernel.invokeFunction(\n",
       "                'getCodeForChart', [\"chart-47ede58d-dbe4-427e-bd70-00dc9492a12a\"], {});\n",
       "            const responseJson = chartCodeResponse.data['application/json'];\n",
       "            await google.colab.notebook.addCell(responseJson.code, 'code');\n",
       "          }\n",
       "          chartElement.onclick = getCodeForChartHandler;\n",
       "        })();\n",
       "      </script>\n",
       "      <style>\n",
       "        .colab-quickchart-chart-with-code  {\n",
       "            display: block;\n",
       "            float: left;\n",
       "            border: 1px solid transparent;\n",
       "        }\n",
       "\n",
       "        .colab-quickchart-chart-with-code:hover {\n",
       "            cursor: pointer;\n",
       "            border: 1px solid #aaa;\n",
       "        }\n",
       "      </style>"
      ],
      "text/plain": [
       "import numpy as np\n",
       "from google.colab import autoviz\n",
       "df_4693396303902216436 = autoviz.get_df('df_4693396303902216436')\n",
       "\n",
       "def categorical_histogram(df, colname, figsize=(2, 1.2), mpl_palette_name='Dark2'):\n",
       "  from matplotlib import pyplot as plt\n",
       "  import seaborn as sns\n",
       "  _, ax = plt.subplots(figsize=figsize)\n",
       "  bars = df[colname].value_counts()\n",
       "  plt.barh(bars.index, bars.values, color=sns.palettes.mpl_palette(mpl_palette_name))\n",
       "  plt.title(colname)\n",
       "  ax.spines[['top', 'right',]].set_visible(False)\n",
       "  return autoviz.MplChart.from_current_mpl_state()\n",
       "\n",
       "chart = categorical_histogram(df_4693396303902216436, *['Image'], **{})\n",
       "chart"
      ]
     },
     "metadata": {},
     "output_type": "display_data"
    }
   ],
   "source": [
    "train_df.head(2)"
   ]
  },
  {
   "cell_type": "code",
   "execution_count": 7,
   "metadata": {
    "executionInfo": {
     "elapsed": 386,
     "status": "ok",
     "timestamp": 1690368618824,
     "user": {
      "displayName": "Raj Yadav",
      "userId": "17883966751087890537"
     },
     "user_tz": -330
    },
    "id": "pbHnpzeEEfOM"
   },
   "outputs": [],
   "source": [
    "train_images = data_path + \"train_images/\" + train_df.iloc[:, 0].values\n",
    "test_images = data_path + \"test_images/\" + test_df.iloc[:, 0].values"
   ]
  },
  {
   "cell_type": "code",
   "execution_count": 8,
   "metadata": {
    "colab": {
     "base_uri": "https://localhost:8080/",
     "height": 36
    },
    "executionInfo": {
     "elapsed": 7,
     "status": "ok",
     "timestamp": 1690368620380,
     "user": {
      "displayName": "Raj Yadav",
      "userId": "17883966751087890537"
     },
     "user_tz": -330
    },
    "id": "y_IGC-wP19o4",
    "outputId": "2d1db74a-cc33-4c40-91d6-32889f97852d"
   },
   "outputs": [
    {
     "data": {
      "application/vnd.google.colaboratory.intrinsic+json": {
       "type": "string"
      },
      "text/plain": [
       "'/content/sample_data/train_images/0_00.png'"
      ]
     },
     "execution_count": 8,
     "metadata": {},
     "output_type": "execute_result"
    }
   ],
   "source": [
    "train_images[0]"
   ]
  },
  {
   "cell_type": "code",
   "execution_count": null,
   "metadata": {
    "id": "3HvEuJwt19AE"
   },
   "outputs": [],
   "source": []
  },
  {
   "cell_type": "code",
   "execution_count": 9,
   "metadata": {
    "executionInfo": {
     "elapsed": 399,
     "status": "ok",
     "timestamp": 1690368641125,
     "user": {
      "displayName": "Raj Yadav",
      "userId": "17883966751087890537"
     },
     "user_tz": -330
    },
    "id": "bQDUS7y_7-MV"
   },
   "outputs": [],
   "source": [
    "train_labels = train_df.iloc[:, 1:].values\n",
    "test_labels = test_df.iloc[:, 1:].values"
   ]
  },
  {
   "cell_type": "code",
   "execution_count": null,
   "metadata": {
    "id": "BTd-KN000o20"
   },
   "outputs": [],
   "source": [
    "train_labels"
   ]
  },
  {
   "cell_type": "code",
   "execution_count": 11,
   "metadata": {
    "executionInfo": {
     "elapsed": 380,
     "status": "ok",
     "timestamp": 1690368754041,
     "user": {
      "displayName": "Raj Yadav",
      "userId": "17883966751087890537"
     },
     "user_tz": -330
    },
    "id": "fEzGkJKj8D5L"
   },
   "outputs": [],
   "source": [
    "def read_image(image_path, label):\n",
    "    image = tf.io.read_file(image_path)\n",
    "    image = tf.image.decode_image(image, channels=1, dtype=tf.float32)\n",
    "\n",
    "    # In older versions you need to set shape in order to avoid error\n",
    "    # on newer (2.3.0+) the following 3 lines can safely be removed\n",
    "    # image.set_shape((64, 64, 1))\n",
    "    # label[0].set_shape([])\n",
    "    # label[1].set_shape([])\n",
    "\n",
    "    labels = {\"first_num\": label[0], \"second_num\": label[1]}\n",
    "    return image, labels\n"
   ]
  },
  {
   "cell_type": "code",
   "execution_count": 12,
   "metadata": {
    "colab": {
     "base_uri": "https://localhost:8080/"
    },
    "executionInfo": {
     "elapsed": 3489,
     "status": "ok",
     "timestamp": 1690368784498,
     "user": {
      "displayName": "Raj Yadav",
      "userId": "17883966751087890537"
     },
     "user_tz": -330
    },
    "id": "FQjWcPAh2IFb",
    "outputId": "b649c184-efcf-443c-ed0c-62f5920ec345"
   },
   "outputs": [
    {
     "data": {
      "text/plain": [
       "(<tf.Tensor: shape=(64, 64, 1), dtype=float32, numpy=\n",
       " array([[[0.],\n",
       "         [0.],\n",
       "         [0.],\n",
       "         ...,\n",
       "         [0.],\n",
       "         [0.],\n",
       "         [0.]],\n",
       " \n",
       "        [[0.],\n",
       "         [0.],\n",
       "         [0.],\n",
       "         ...,\n",
       "         [0.],\n",
       "         [0.],\n",
       "         [0.]],\n",
       " \n",
       "        [[0.],\n",
       "         [0.],\n",
       "         [0.],\n",
       "         ...,\n",
       "         [0.],\n",
       "         [0.],\n",
       "         [0.]],\n",
       " \n",
       "        ...,\n",
       " \n",
       "        [[0.],\n",
       "         [0.],\n",
       "         [0.],\n",
       "         ...,\n",
       "         [0.],\n",
       "         [0.],\n",
       "         [0.]],\n",
       " \n",
       "        [[0.],\n",
       "         [0.],\n",
       "         [0.],\n",
       "         ...,\n",
       "         [0.],\n",
       "         [0.],\n",
       "         [0.]],\n",
       " \n",
       "        [[0.],\n",
       "         [0.],\n",
       "         [0.],\n",
       "         ...,\n",
       "         [0.],\n",
       "         [0.],\n",
       "         [0.]]], dtype=float32)>,\n",
       " {'first_num': 0, 'second_num': 0})"
      ]
     },
     "execution_count": 12,
     "metadata": {},
     "output_type": "execute_result"
    }
   ],
   "source": [
    "read_image(train_images[0],train_labels[0])"
   ]
  },
  {
   "cell_type": "code",
   "execution_count": 13,
   "metadata": {
    "executionInfo": {
     "elapsed": 387,
     "status": "ok",
     "timestamp": 1690369314904,
     "user": {
      "displayName": "Raj Yadav",
      "userId": "17883966751087890537"
     },
     "user_tz": -330
    },
    "id": "IflLlm0b8Md_"
   },
   "outputs": [],
   "source": [
    "AUTOTUNE = tf.data.experimental.AUTOTUNE\n",
    "train_dataset = tf.data.Dataset.from_tensor_slices((train_images, train_labels))\n",
    "train_dataset = (\n",
    "    train_dataset.shuffle(buffer_size=len(train_labels))\n",
    "    .map(read_image)\n",
    "    .batch(batch_size=BATCH_SIZE)\n",
    "    .prefetch(buffer_size=AUTOTUNE)\n",
    ")\n",
    "\n",
    "test_dataset = tf.data.Dataset.from_tensor_slices((test_images, test_labels))\n",
    "test_dataset = (\n",
    "    test_dataset.map(read_image)\n",
    "    .batch(batch_size=BATCH_SIZE)\n",
    "    .prefetch(buffer_size=AUTOTUNE)\n",
    ")\n"
   ]
  },
  {
   "cell_type": "code",
   "execution_count": 15,
   "metadata": {
    "executionInfo": {
     "elapsed": 386,
     "status": "ok",
     "timestamp": 1690369628654,
     "user": {
      "displayName": "Raj Yadav",
      "userId": "17883966751087890537"
     },
     "user_tz": -330
    },
    "id": "DYgqkAwQ8TIf"
   },
   "outputs": [],
   "source": [
    "inputs = keras.Input(shape=(64, 64, 1))\n",
    "x = layers.Conv2D(\n",
    "    filters=32,\n",
    "    kernel_size=3,\n",
    "    padding=\"same\",\n",
    "    kernel_regularizer=regularizers.l2(WEIGHT_DECAY),\n",
    ")(inputs)\n",
    "x = layers.BatchNormalization()(x)\n",
    "x = keras.activations.relu(x)\n",
    "\n",
    "x = layers.Conv2D(64, 3, kernel_regularizer=regularizers.l2(WEIGHT_DECAY),)(x)\n",
    "x = layers.BatchNormalization()(x)\n",
    "x = keras.activations.relu(x)\n",
    "x = layers.MaxPooling2D()(x)\n",
    "\n",
    "x = layers.Conv2D(\n",
    "    64, 3, activation=\"relu\", kernel_regularizer=regularizers.l2(WEIGHT_DECAY),\n",
    ")(x)\n",
    "x = layers.Conv2D(128, 3, activation=\"relu\")(x)\n",
    "x = layers.MaxPooling2D()(x)\n",
    "x = layers.Flatten()(x)\n",
    "x = layers.Dense(128, activation=\"relu\")(x)\n",
    "x = layers.Dropout(0.5)(x)\n",
    "x = layers.Dense(64, activation=\"relu\")(x)\n",
    "\n",
    "output1 = layers.Dense(10, activation=\"softmax\", name=\"first_num\")(x)\n",
    "output2 = layers.Dense(10, activation=\"softmax\", name=\"second_num\")(x)\n",
    "\n",
    "model = keras.Model(inputs=inputs, outputs=[output1, output2])\n"
   ]
  },
  {
   "cell_type": "code",
   "execution_count": 16,
   "metadata": {
    "executionInfo": {
     "elapsed": 2,
     "status": "ok",
     "timestamp": 1690369660094,
     "user": {
      "displayName": "Raj Yadav",
      "userId": "17883966751087890537"
     },
     "user_tz": -330
    },
    "id": "k7QCXOrm8a16"
   },
   "outputs": [],
   "source": [
    "model.compile(\n",
    "    optimizer=keras.optimizers.Adam(LEARNING_RATE),\n",
    "    loss=keras.losses.SparseCategoricalCrossentropy(),\n",
    "    metrics=[\"accuracy\"],\n",
    ")\n",
    "\n"
   ]
  },
  {
   "cell_type": "code",
   "execution_count": 17,
   "metadata": {
    "colab": {
     "base_uri": "https://localhost:8080/"
    },
    "executionInfo": {
     "elapsed": 18,
     "status": "ok",
     "timestamp": 1690369672560,
     "user": {
      "displayName": "Raj Yadav",
      "userId": "17883966751087890537"
     },
     "user_tz": -330
    },
    "id": "kjJbbNQJ4h8X",
    "outputId": "8b027513-e63b-4298-e138-50910de86d9e"
   },
   "outputs": [
    {
     "name": "stdout",
     "output_type": "stream",
     "text": [
      "Model: \"model\"\n",
      "__________________________________________________________________________________________________\n",
      " Layer (type)                   Output Shape         Param #     Connected to                     \n",
      "==================================================================================================\n",
      " input_1 (InputLayer)           [(None, 64, 64, 1)]  0           []                               \n",
      "                                                                                                  \n",
      " conv2d (Conv2D)                (None, 64, 64, 32)   320         ['input_1[0][0]']                \n",
      "                                                                                                  \n",
      " batch_normalization (BatchNorm  (None, 64, 64, 32)  128         ['conv2d[0][0]']                 \n",
      " alization)                                                                                       \n",
      "                                                                                                  \n",
      " tf.nn.relu (TFOpLambda)        (None, 64, 64, 32)   0           ['batch_normalization[0][0]']    \n",
      "                                                                                                  \n",
      " conv2d_1 (Conv2D)              (None, 62, 62, 64)   18496       ['tf.nn.relu[0][0]']             \n",
      "                                                                                                  \n",
      " batch_normalization_1 (BatchNo  (None, 62, 62, 64)  256         ['conv2d_1[0][0]']               \n",
      " rmalization)                                                                                     \n",
      "                                                                                                  \n",
      " tf.nn.relu_1 (TFOpLambda)      (None, 62, 62, 64)   0           ['batch_normalization_1[0][0]']  \n",
      "                                                                                                  \n",
      " max_pooling2d (MaxPooling2D)   (None, 31, 31, 64)   0           ['tf.nn.relu_1[0][0]']           \n",
      "                                                                                                  \n",
      " conv2d_2 (Conv2D)              (None, 29, 29, 64)   36928       ['max_pooling2d[0][0]']          \n",
      "                                                                                                  \n",
      " conv2d_3 (Conv2D)              (None, 27, 27, 128)  73856       ['conv2d_2[0][0]']               \n",
      "                                                                                                  \n",
      " max_pooling2d_1 (MaxPooling2D)  (None, 13, 13, 128)  0          ['conv2d_3[0][0]']               \n",
      "                                                                                                  \n",
      " flatten (Flatten)              (None, 21632)        0           ['max_pooling2d_1[0][0]']        \n",
      "                                                                                                  \n",
      " dense (Dense)                  (None, 128)          2769024     ['flatten[0][0]']                \n",
      "                                                                                                  \n",
      " dropout (Dropout)              (None, 128)          0           ['dense[0][0]']                  \n",
      "                                                                                                  \n",
      " dense_1 (Dense)                (None, 64)           8256        ['dropout[0][0]']                \n",
      "                                                                                                  \n",
      " first_num (Dense)              (None, 10)           650         ['dense_1[0][0]']                \n",
      "                                                                                                  \n",
      " second_num (Dense)             (None, 10)           650         ['dense_1[0][0]']                \n",
      "                                                                                                  \n",
      "==================================================================================================\n",
      "Total params: 2,908,564\n",
      "Trainable params: 2,908,372\n",
      "Non-trainable params: 192\n",
      "__________________________________________________________________________________________________\n",
      "None\n"
     ]
    }
   ],
   "source": [
    "print(model.summary())"
   ]
  },
  {
   "cell_type": "code",
   "execution_count": 18,
   "metadata": {
    "colab": {
     "base_uri": "https://localhost:8080/"
    },
    "executionInfo": {
     "elapsed": 224576,
     "status": "ok",
     "timestamp": 1690369915466,
     "user": {
      "displayName": "Raj Yadav",
      "userId": "17883966751087890537"
     },
     "user_tz": -330
    },
    "id": "7tJsI3yOMmoF",
    "outputId": "8b02648f-6136-4f19-fc65-99e0c6d6e1e3"
   },
   "outputs": [
    {
     "name": "stdout",
     "output_type": "stream",
     "text": [
      "Epoch 1/5\n",
      "1000/1000 [==============================] - 48s 33ms/step - loss: 1.8326 - first_num_loss: 0.8843 - second_num_loss: 0.8668 - first_num_accuracy: 0.6860 - second_num_accuracy: 0.6912\n",
      "Epoch 2/5\n",
      "1000/1000 [==============================] - 32s 31ms/step - loss: 0.5885 - first_num_loss: 0.2607 - second_num_loss: 0.2640 - first_num_accuracy: 0.9132 - second_num_accuracy: 0.9120\n",
      "Epoch 3/5\n",
      "1000/1000 [==============================] - 31s 31ms/step - loss: 0.3941 - first_num_loss: 0.1676 - second_num_loss: 0.1695 - first_num_accuracy: 0.9453 - second_num_accuracy: 0.9442\n",
      "Epoch 4/5\n",
      "1000/1000 [==============================] - 31s 31ms/step - loss: 0.3134 - first_num_loss: 0.1336 - second_num_loss: 0.1270 - first_num_accuracy: 0.9558 - second_num_accuracy: 0.9576\n",
      "Epoch 5/5\n",
      "1000/1000 [==============================] - 31s 31ms/step - loss: 0.2606 - first_num_loss: 0.1083 - second_num_loss: 0.1022 - first_num_accuracy: 0.9647 - second_num_accuracy: 0.9662\n",
      "313/313 [==============================] - 5s 14ms/step - loss: 1.0212 - first_num_loss: 0.3210 - second_num_loss: 0.6521 - first_num_accuracy: 0.9066 - second_num_accuracy: 0.8190\n"
     ]
    },
    {
     "data": {
      "text/plain": [
       "[1.021240472793579,\n",
       " 0.32096707820892334,\n",
       " 0.6521443128585815,\n",
       " 0.9065999984741211,\n",
       " 0.8190000057220459]"
      ]
     },
     "execution_count": 18,
     "metadata": {},
     "output_type": "execute_result"
    }
   ],
   "source": [
    "model.fit(train_dataset, epochs=5, verbose=1)\n",
    "model.evaluate(test_dataset, verbose=1)"
   ]
  },
  {
   "cell_type": "code",
   "execution_count": null,
   "metadata": {
    "id": "onOe-e-44okh"
   },
   "outputs": [],
   "source": []
  }
 ],
 "metadata": {
  "accelerator": "GPU",
  "colab": {
   "authorship_tag": "ABX9TyO+K9FJq/pqjNTW1LWE0QWd",
   "provenance": []
  },
  "gpuClass": "standard",
  "kernelspec": {
   "display_name": "Python 3 (ipykernel)",
   "language": "python",
   "name": "python3"
  },
  "language_info": {
   "codemirror_mode": {
    "name": "ipython",
    "version": 3
   },
   "file_extension": ".py",
   "mimetype": "text/x-python",
   "name": "python",
   "nbconvert_exporter": "python",
   "pygments_lexer": "ipython3",
   "version": "3.9.12"
  }
 },
 "nbformat": 4,
 "nbformat_minor": 1
}
